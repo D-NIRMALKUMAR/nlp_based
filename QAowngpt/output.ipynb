{
 "cells": [
  {
   "cell_type": "code",
   "execution_count": 24,
   "metadata": {},
   "outputs": [
    {
     "name": "stderr",
     "output_type": "stream",
     "text": [
      "WARNING:absl:Compiled the loaded model, but the compiled metrics have yet to be built. `model.compile_metrics` will be empty until you train or evaluate the model.\n"
     ]
    },
    {
     "name": "stdout",
     "output_type": "stream",
     "text": [
      "\u001b[1m1/1\u001b[0m \u001b[32m━━━━━━━━━━━━━━━━━━━━\u001b[0m\u001b[37m\u001b[0m \u001b[1m0s\u001b[0m 230ms/step\n",
      "Answer: is an open source platform for machine learning\n"
     ]
    }
   ],
   "source": [
    "from tensorflow.keras.preprocessing.sequence import pad_sequences\n",
    "from tensorflow.keras.preprocessing.text import Tokenizer\n",
    "import numpy as np\n",
    "from tensorflow import keras\n",
    "\n",
    "# Load the pre-trained model\n",
    "model = keras.models.load_model('owngpt.h5')\n",
    "\n",
    "# Load or define a pre-trained tokenizer\n",
    "tokenizer = Tokenizer()\n",
    "tokenizer.fit_on_texts([context, question])  # Fit to ensure vocabulary includes example context/question\n",
    "\n",
    "# Function to answer questions\n",
    "def answer_question(context, question):\n",
    "    # Tokenize and pad sequences\n",
    "    context_seq = tokenizer.texts_to_sequences([context])\n",
    "    question_seq = tokenizer.texts_to_sequences([question])\n",
    "\n",
    "    # Check if sequences are empty\n",
    "    if not context_seq[0] or not question_seq[0]:\n",
    "        return \"Unable to process the input, possibly due to unfamiliar vocabulary.\"\n",
    "\n",
    "    # Determine the maximum length for padding\n",
    "    max_length = max(max(len(seq) for seq in context_seq), max(len(seq) for seq in question_seq))\n",
    "    \n",
    "    # Pad sequences\n",
    "    context_padded = pad_sequences(context_seq, maxlen=max_length)\n",
    "    question_padded = pad_sequences(question_seq, maxlen=max_length)\n",
    "\n",
    "    # Model prediction\n",
    "    start_pred, end_pred = model.predict([context_padded, question_padded])\n",
    "    \n",
    "    # Get the predicted start and end indices\n",
    "    start_index = np.argmax(start_pred, axis=1)[0]\n",
    "    end_index = np.argmax(end_pred, axis=1)[0]\n",
    "    \n",
    "    # Extract the answer tokens from the padded context\n",
    "    answer_tokens = context_padded[0][start_index:end_index + 1]\n",
    "    answer = tokenizer.sequences_to_texts([answer_tokens])[0]\n",
    "\n",
    "    return answer.strip()\n",
    "\n",
    "# Example usage\n",
    "context = \"TensorFlow is an open-source platform for machine learning.\"\n",
    "question = \"What is TensorFlow?\"\n",
    "\n",
    "answer = answer_question(context, question)\n",
    "print(\"Answer:\", answer)\n"
   ]
  },
  {
   "cell_type": "code",
   "execution_count": 25,
   "metadata": {},
   "outputs": [
    {
     "name": "stdout",
     "output_type": "stream",
     "text": [
      "\u001b[1m1/1\u001b[0m \u001b[32m━━━━━━━━━━━━━━━━━━━━\u001b[0m\u001b[37m\u001b[0m \u001b[1m0s\u001b[0m 29ms/step\n",
      "Answer: is an open source platform for machine learning\n"
     ]
    }
   ],
   "source": [
    "\n",
    "# Example usage\n",
    "context = \"TensorFlow is an open-source platform for machine learning.\"\n",
    "question = \"What is TensorFlow?\"\n",
    "\n",
    "answer = answer_question(context, question)\n",
    "print(\"Answer:\", answer)"
   ]
  },
  {
   "cell_type": "code",
   "execution_count": 52,
   "metadata": {},
   "outputs": [
    {
     "name": "stdout",
     "output_type": "stream",
     "text": [
      "Chatbot: Hi! I'm your chatbot. Type 'exit' to end the conversation.\n",
      "User: What is TensorFlow?\n",
      "\u001b[1m1/1\u001b[0m \u001b[32m━━━━━━━━━━━━━━━━━━━━\u001b[0m\u001b[37m\u001b[0m \u001b[1m0s\u001b[0m 26ms/step\n",
      "Chatbot: is an open source platform for machine learning\n",
      "User: exit\n",
      "Chatbot: Goodbye!\n"
     ]
    }
   ],
   "source": [
    "context = \"TensorFlow is an open-source platform for machine learning.\"\n",
    "#question = \"What is Tajmahal?\"\n",
    "# Start conversation loop\n",
    "print(\"Chatbot: Hi! I'm your chatbot. Type 'exit' to end the conversation.\")\n",
    "while True:\n",
    "    user_input = input(\"You: \")\n",
    "    print(\"User:\",user_input)\n",
    "    if user_input.lower() == 'exit':\n",
    "        print(\"Chatbot: Goodbye!\")\n",
    "        break\n",
    "    answer = answer_question(context, question)\n",
    "    print(\"Chatbot:\", answer)"
   ]
  },
  {
   "cell_type": "code",
   "execution_count": 48,
   "metadata": {},
   "outputs": [
    {
     "name": "stderr",
     "output_type": "stream",
     "text": [
      "WARNING:absl:Compiled the loaded model, but the compiled metrics have yet to be built. `model.compile_metrics` will be empty until you train or evaluate the model.\n"
     ]
    },
    {
     "name": "stdout",
     "output_type": "stream",
     "text": [
      "\u001b[1m1/1\u001b[0m \u001b[32m━━━━━━━━━━━━━━━━━━━━\u001b[0m\u001b[37m\u001b[0m \u001b[1m0s\u001b[0m 213ms/step\n",
      "Answer: is an open source platform for machine learning\n"
     ]
    }
   ],
   "source": [
    "from tensorflow import keras\n",
    "from tensorflow.keras.preprocessing.sequence import pad_sequences\n",
    "from tensorflow.keras.preprocessing.text import Tokenizer\n",
    "import numpy as np\n",
    "\n",
    "# Load the pre-trained model\n",
    "model = keras.models.load_model('owngpt.h5')\n",
    "\n",
    "# Load or define a pre-trained tokenizer\n",
    "tokenizer = Tokenizer()\n",
    "tokenizer.fit_on_texts([context, question])  # Fit to ensure vocabulary includes example context/question\n",
    "\n",
    "# Function to answer questions\n",
    "def answer_question(context, question):\n",
    "    # Tokenize and pad sequences\n",
    "    context_seq = tokenizer.texts_to_sequences([context])\n",
    "    question_seq = tokenizer.texts_to_sequences([question])\n",
    "\n",
    "    # Check if sequences are empty\n",
    "    if not context_seq[0] or not question_seq[0]:\n",
    "        return \"Unable to process the input, possibly due to unfamiliar vocabulary.\"\n",
    "\n",
    "    # Determine the maximum length for padding\n",
    "    max_length = max(max(len(seq) for seq in context_seq), max(len(seq) for seq in question_seq))\n",
    "    \n",
    "    # Pad sequences\n",
    "    context_padded = pad_sequences(context_seq, maxlen=max_length)\n",
    "    question_padded = pad_sequences(question_seq, maxlen=max_length)\n",
    "\n",
    "    # Model prediction\n",
    "    start_pred, end_pred = model.predict([context_padded, question_padded])\n",
    "    \n",
    "    # Get the predicted start and end indices\n",
    "    start_index = np.argmax(start_pred, axis=1)[0]\n",
    "    end_index = np.argmax(end_pred, axis=1)[0]\n",
    "    \n",
    "    # Extract the answer tokens from the padded context\n",
    "    answer_tokens = context_padded[0][start_index:end_index + 1]\n",
    "    answer = tokenizer.sequences_to_texts([answer_tokens])[0]\n",
    "\n",
    "    return answer.strip()\n",
    "\n",
    "# Example usage\n",
    "context = \"TensorFlow is an open-source platform for machine learning.\"\n",
    "question = \"What is TensorFlow?\"\n",
    "\n",
    "answer = answer_question(context, question)\n",
    "print(\"Answer:\", answer)\n"
   ]
  }
 ],
 "metadata": {
  "kernelspec": {
   "display_name": "Python 3",
   "language": "python",
   "name": "python3"
  },
  "language_info": {
   "codemirror_mode": {
    "name": "ipython",
    "version": 3
   },
   "file_extension": ".py",
   "mimetype": "text/x-python",
   "name": "python",
   "nbconvert_exporter": "python",
   "pygments_lexer": "ipython3",
   "version": "3.9.10"
  }
 },
 "nbformat": 4,
 "nbformat_minor": 2
}
