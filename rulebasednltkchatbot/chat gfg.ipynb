{
 "cells": [
  {
   "cell_type": "code",
   "execution_count": 13,
   "metadata": {},
   "outputs": [
    {
     "name": "stderr",
     "output_type": "stream",
     "text": [
      "WARNING: There was an error checking the latest version of pip.\n",
      "[nltk_data] Downloading package punkt to\n",
      "[nltk_data]     C:\\Users\\ADMIN\\AppData\\Roaming\\nltk_data...\n",
      "[nltk_data]   Package punkt is already up-to-date!\n",
      "[nltk_data] Downloading package averaged_perceptron_tagger to\n",
      "[nltk_data]     C:\\Users\\ADMIN\\AppData\\Roaming\\nltk_data...\n"
     ]
    },
    {
     "name": "stdout",
     "output_type": "stream",
     "text": [
      "Requirement already satisfied: nltk in c:\\users\\admin\\appdata\\local\\programs\\python\\python312\\lib\\site-packages (3.9.1)\n",
      "Requirement already satisfied: click in c:\\users\\admin\\appdata\\local\\programs\\python\\python312\\lib\\site-packages (from nltk) (8.1.7)\n",
      "Requirement already satisfied: joblib in c:\\users\\admin\\appdata\\local\\programs\\python\\python312\\lib\\site-packages (from nltk) (1.4.2)\n",
      "Requirement already satisfied: regex>=2021.8.3 in c:\\users\\admin\\appdata\\local\\programs\\python\\python312\\lib\\site-packages (from nltk) (2024.5.15)\n",
      "Requirement already satisfied: tqdm in c:\\users\\admin\\appdata\\local\\programs\\python\\python312\\lib\\site-packages (from nltk) (4.66.4)\n",
      "Requirement already satisfied: colorama in c:\\users\\admin\\appdata\\local\\programs\\python\\python312\\lib\\site-packages (from click->nltk) (0.4.6)\n"
     ]
    },
    {
     "name": "stderr",
     "output_type": "stream",
     "text": [
      "[nltk_data]   Package averaged_perceptron_tagger is already up-to-\n",
      "[nltk_data]       date!\n"
     ]
    },
    {
     "name": "stdout",
     "output_type": "stream",
     "text": [
      "Hi, I'm your chatbot. Type 'quit' to exit.\n",
      "Chatbot: Hello, how can I help you?\n",
      "Chatbot: I'm a bot, so I don't have feelings, but I'm here to help you!\n",
      "Chatbot: No problem!\n",
      "Chatbot: I'm sorry, I don't understand that. Can you rephrase?\n",
      "Chatbot: Could you please elaborate on that?\n",
      "Chatbot: I'm sorry, I don't understand that. Can you rephrase?\n",
      "Chatbot: Could you please elaborate on that?\n",
      "Chatbot: Bye! Have a great day!\n"
     ]
    }
   ],
   "source": [
    "# Install necessary libraries\n",
    "!pip install nltk\n",
    "\n",
    "# Import necessary modules\n",
    "import nltk\n",
    "import re\n",
    "from nltk.chat.util import Chat, reflections\n",
    "\n",
    "# Download NLTK data\n",
    "nltk.download('punkt')\n",
    "nltk.download('averaged_perceptron_tagger')\n",
    "\n",
    "# Define patterns and responses\n",
    "pairs = [\n",
    "    [r\"my name is (.*)\", [\"Hello %1, how can I assist you today?\",]],\n",
    "    [r\"hi|hey|hello\", [\"Hello, how can I help you?\", \"Hey there! What can I do for you?\", \"Hi! How can I assist you today?\"]],\n",
    "    [r\"what is your name?\", [\"I am a chatbot created to assist you. You can call me Chatbot.\",]],\n",
    "    [r\"how are you?\", [\"I'm a bot, so I don't have feelings, but I'm here to help you!\",]],\n",
    "    [r\"can you help me with (.*)\", [\"Sure, I can help you with %1. Please provide more details.\",]],\n",
    "    [r\"sorry (.*)\", [\"It's okay. How can I assist you?\",]],\n",
    "    [r\"thank you|thanks\", [\"You're welcome!\", \"No problem!\", \"Happy to help!\"]],\n",
    "    [r\"quit\", [\"Bye! Have a great day!\", \"Goodbye!\"]],\n",
    "    [r\"(.*)\", [\"I'm sorry, I don't understand that. Can you rephrase?\", \"Could you please elaborate on that?\"]]\n",
    "    [r\"my name is (.*)\", [\"Hello %1, how can I assist you today?\"]],\n",
    "    [r\"hi|hello|hey\", [\"Hello!\", \"Hi there!\", \"Greetings! How can I assist you today?\"]],\n",
    "    [r\"how are you?\", [\"I'm just a program, but I'm here to help you! How can I assist you?\"]],\n",
    "    [r\"what is your name?\", [\"I am a chatbot, here to assist you!\"]],\n",
    "    [r\"bye|goodbye\", [\"Goodbye! Have a great day!\", \"See you later!\"]],\n",
    "    [r\"thank you|thanks\", [\"You're welcome!\", \"Happy to help!\"]],\n",
    "    [r\"what can you do?\", [\"I can answer questions, provide information, and help with specific tasks. What do you need help with?\"]],\n",
    "    [r\"(.*)\", [\"I'm sorry, I don't understand that. Can you rephrase?\", \"Could you please elaborate on that?\"]] [r\"my name is (.*)\", [\"Hello %1, how can I assist you today?\"]],\n",
    "    [r\"hi|hello|hey\", [\"Hello!\", \"Hi there!\", \"Hey! How can I help you?\"]],\n",
    "    [r\"how are you(.*)\", [\"I'm doing well, thank you! How about you?\"]],\n",
    "    [r\"what is your name\", [\"I am a chatbot created to assist you.\"]],\n",
    "    [r\"bye|goodbye\", [\"Goodbye! Have a great day!\", \"See you later!\"]],\n",
    "    [r\"(.*)\", [\n",
    "        \"I'm sorry, I don't understand that. Can you rephrase?\",\n",
    "        \"Could you please elaborate on that?\"\n",
    "    ]]\n",
    "]\n",
    "\n",
    "# Define the chatbot class\n",
    "class RuleBasedChatbot:\n",
    "    def __init__(self, pairs):\n",
    "        self.chat = Chat(pairs, reflections)\n",
    "        \n",
    "    def respond(self, user_input):\n",
    "        return self.chat.respond(user_input)\n",
    "\n",
    "# Initialize the chatbot\n",
    "chatbot = RuleBasedChatbot(pairs)\n",
    "\n",
    "# Function to chat with the bot\n",
    "def chat_with_bot():\n",
    "    print(\"Hi, I'm your chatbot. Type 'quit' to exit.\")\n",
    "    while True:\n",
    "        user_input = input(\"You: \")\n",
    "        if user_input.lower() == 'quit':\n",
    "            print(\"Chatbot: Bye! Have a great day!\")\n",
    "            break\n",
    "        response = chatbot.respond(user_input)\n",
    "        print(f\"Chatbot: {response}\")\n",
    "\n",
    "# Start chatting with the bot\n",
    "chat_with_bot()\n"
   ]
  }
 ],
 "metadata": {
  "kernelspec": {
   "display_name": "Python 3",
   "language": "python",
   "name": "python3"
  },
  "language_info": {
   "codemirror_mode": {
    "name": "ipython",
    "version": 3
   },
   "file_extension": ".py",
   "mimetype": "text/x-python",
   "name": "python",
   "nbconvert_exporter": "python",
   "pygments_lexer": "ipython3",
   "version": "3.12.0"
  }
 },
 "nbformat": 4,
 "nbformat_minor": 2
}
